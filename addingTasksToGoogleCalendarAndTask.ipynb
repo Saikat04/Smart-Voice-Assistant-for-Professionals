{
 "cells": [
  {
   "cell_type": "markdown",
   "metadata": {},
   "source": [
    "##### Libraries"
   ]
  },
  {
   "cell_type": "code",
   "execution_count": 9,
   "metadata": {},
   "outputs": [],
   "source": [
    "def loadLibraries():\n",
    "    import os\n",
    "    import json\n",
    "    import datetime as dt\n",
    "    import pytz\n",
    "    from google.oauth2.credentials import Credentials\n",
    "    from google_auth_oauthlib.flow import InstalledAppFlow\n",
    "    from google.auth.transport.requests import Request\n",
    "    from googleapiclient.discovery import build\n",
    "    from googleapiclient.errors import HttpError\n",
    "    SCOPES = [\n",
    "    'https://www.googleapis.com/auth/calendar',\n",
    "    'https://www.googleapis.com/auth/tasks'\n",
    "    ]"
   ]
  },
  {
   "cell_type": "code",
   "execution_count": 10,
   "metadata": {},
   "outputs": [],
   "source": [
    "import os\n",
    "import json\n",
    "import datetime as dt\n",
    "import pytz\n",
    "from google.oauth2.credentials import Credentials\n",
    "from google_auth_oauthlib.flow import InstalledAppFlow\n",
    "from google.auth.transport.requests import Request\n",
    "from googleapiclient.discovery import build\n",
    "from googleapiclient.errors import HttpError\n",
    "SCOPES = [\n",
    "    'https://www.googleapis.com/auth/calendar',\n",
    "    'https://www.googleapis.com/auth/tasks'\n",
    "]"
   ]
  },
  {
   "cell_type": "markdown",
   "metadata": {},
   "source": [
    "#### Fetching Cradentials"
   ]
  },
  {
   "cell_type": "code",
   "execution_count": null,
   "metadata": {},
   "outputs": [],
   "source": [
    "def get_credentials():\n",
    "    creds = None\n",
    "    if os.path.exists('token.json'):\n",
    "        creds = Credentials.from_authorized_user_file('token.json', SCOPES)\n",
    "    if not creds or not creds.valid:\n",
    "        if creds and creds.expired and creds.refresh_token:\n",
    "            creds.refresh(Request())\n",
    "        else:\n",
    "            flow = InstalledAppFlow.from_client_secrets_file('credentials.json', SCOPES)\n",
    "            creds = flow.run_local_server(port=0)\n",
    "        with open('token.json', 'w') as token:\n",
    "            token.write(creds.to_json())\n",
    "    return creds"
   ]
  },
  {
   "cell_type": "markdown",
   "metadata": {},
   "source": [
    "#### Adding Events to calendar"
   ]
  },
  {
   "cell_type": "code",
   "execution_count": 5,
   "metadata": {},
   "outputs": [],
   "source": [
    "def add_event(event_details):\n",
    "    creds = get_credentials()\n",
    "    try:\n",
    "        service = build('calendar', 'v3', credentials=creds)\n",
    "        \n",
    "        end_time_str = event_details.get('Deadline')\n",
    "        end_time = dt.datetime.fromisoformat(end_time_str)\n",
    "        \n",
    "        tz = pytz.timezone(\"Asia/Kolkata\")\n",
    "        start_time = dt.datetime.now(tz)\n",
    "        \n",
    "        if end_time.tzinfo is None:\n",
    "            end_time = tz.localize(end_time)\n",
    "        else:\n",
    "            end_time = end_time.astimezone(tz)\n",
    "        if end_time <= start_time:\n",
    "            print(f\"Skipping event '{event_details.get('Task')}' because the deadline is not in the future.\")\n",
    "            return\n",
    "        \n",
    "        event = {\n",
    "            'summary': event_details.get('Task'),\n",
    "            'description': f\"Responsible Person: {event_details.get('Responsible Person')}\",\n",
    "            'start': {\n",
    "                'dateTime': start_time.isoformat(),\n",
    "                'timeZone': 'Asia/Kolkata',\n",
    "            },\n",
    "            'end': {\n",
    "                'dateTime': end_time.isoformat(),\n",
    "                'timeZone': 'Asia/Kolkata',\n",
    "            }\n",
    "        }\n",
    "        \n",
    "        created_event = service.events().insert(calendarId='primary', body=event).execute()\n",
    "        print('Event created: %s' % (created_event.get('htmlLink')))\n",
    "    except HttpError as e:\n",
    "        print(e)"
   ]
  },
  {
   "cell_type": "markdown",
   "metadata": {},
   "source": [
    "#### Adding Tasks to Google Task"
   ]
  },
  {
   "cell_type": "code",
   "execution_count": 11,
   "metadata": {},
   "outputs": [],
   "source": [
    "def add_task(task_details):\n",
    "    creds = get_credentials()\n",
    "    try:\n",
    "        service = build('tasks', 'v1', credentials=creds)\n",
    "        \n",
    "        # Construct a task. If there's a deadline, include it; otherwise, skip it.\n",
    "        task_body = {\n",
    "            'title': task_details.get('Task'),\n",
    "            'notes': f\"Responsible Person: {task_details.get('Responsible Person')}\"\n",
    "        }\n",
    "        # Optional: include due date if deadline exists and is in the future.\n",
    "        deadline = task_details.get('Deadline')\n",
    "        if deadline:\n",
    "            due_time = dt.datetime.fromisoformat(deadline)\n",
    "            tz = pytz.timezone(\"Asia/Kolkata\")\n",
    "            if due_time.tzinfo is None:\n",
    "                due_time = tz.localize(due_time)\n",
    "            else:\n",
    "                due_time = due_time.astimezone(tz)\n",
    "            now = dt.datetime.now(tz)\n",
    "            if due_time > now:\n",
    "                # Google Tasks API expects the due date in RFC3339 format (only date part is required for tasks)\n",
    "                task_body['due'] = due_time.isoformat()\n",
    "        \n",
    "        result = service.tasks().insert(tasklist='@default', body=task_body).execute()\n",
    "        print(f\"Task added: {result.get('title')}\")\n",
    "    except HttpError as e:\n",
    "        print(e)"
   ]
  },
  {
   "cell_type": "code",
   "execution_count": 12,
   "metadata": {},
   "outputs": [],
   "source": [
    "def addTasks(data):\n",
    "    loadLibraries()\n",
    "\n",
    "    for event_item in data.get(\"Action Items & Tasks\", []):\n",
    "        if event_item.get('Deadline') is not None:\n",
    "            add_event(event_item)\n",
    "\n",
    "    for task_item in data.get(\"Action Items & Tasks\", []):\n",
    "        add_task(task_item)"
   ]
  }
 ],
 "metadata": {
  "kernelspec": {
   "display_name": "Python 3",
   "language": "python",
   "name": "python3"
  },
  "language_info": {
   "codemirror_mode": {
    "name": "ipython",
    "version": 3
   },
   "file_extension": ".py",
   "mimetype": "text/x-python",
   "name": "python",
   "nbconvert_exporter": "python",
   "pygments_lexer": "ipython3",
   "version": "3.12.9"
  }
 },
 "nbformat": 4,
 "nbformat_minor": 2
}
