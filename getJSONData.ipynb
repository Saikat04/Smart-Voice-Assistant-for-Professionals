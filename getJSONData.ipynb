{
 "cells": [
  {
   "cell_type": "code",
   "execution_count": null,
   "metadata": {},
   "outputs": [],
   "source": [
    "def getJSON(response):\n",
    "    import json\n",
    "    lines = response.splitlines()\n",
    "\n",
    "    # Remove the first line if it starts with triple backticks (and optional language)\n",
    "    if lines[0].startswith(\"```\"):\n",
    "        lines = lines[1:]\n",
    "\n",
    "    # Remove the last line if it starts with triple backticks\n",
    "    if lines and lines[-1].startswith(\"```\"):\n",
    "        lines = lines[:-1]\n",
    "\n",
    "    # Join the remaining lines into a clean JSON string\n",
    "    json_str = \"\\n\".join(lines)\n",
    "\n",
    "    # Now parse the JSON string into a Python dictionary\n",
    "    data = json.loads(json_str)\n",
    "    return data\n"
   ]
  }
 ],
 "metadata": {
  "kernelspec": {
   "display_name": "Python 3",
   "language": "python",
   "name": "python3"
  },
  "language_info": {
   "codemirror_mode": {
    "name": "ipython",
    "version": 3
   },
   "file_extension": ".py",
   "mimetype": "text/x-python",
   "name": "python",
   "nbconvert_exporter": "python",
   "pygments_lexer": "ipython3",
   "version": "3.12.9"
  }
 },
 "nbformat": 4,
 "nbformat_minor": 2
}
