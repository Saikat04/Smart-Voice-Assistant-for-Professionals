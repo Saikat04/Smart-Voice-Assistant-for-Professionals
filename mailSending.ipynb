{
 "cells": [
  {
   "cell_type": "code",
   "execution_count": 13,
   "metadata": {},
   "outputs": [],
   "source": [
    "def getTime():\n",
    "    from datetime import datetime\n",
    "    now = datetime.now()  \n",
    "    formatted = now.strftime(\"%Y-%m-%d %H:%M:%S\")\n",
    "    return formatted"
   ]
  },
  {
   "cell_type": "code",
   "execution_count": 16,
   "metadata": {},
   "outputs": [],
   "source": [
    "def sendEmail(summary, mails):\n",
    "    import smtplib\n",
    "    from email.mime.text import MIMEText\n",
    "    # mails = []\n",
    "    # while True:\n",
    "    #     mail = input(\"Enter recipient email (press Enter to stop): \")\n",
    "    #     if mail == \"\":\n",
    "    #         break\n",
    "    #     mails.append(mail)\n",
    "    %run usernameAndPasswords.ipynb\n",
    "    sender_email = gmailSender\n",
    "    app_password = gmailPassword\n",
    "\n",
    "    # SMTP Server Setup\n",
    "    server = smtplib.SMTP(\"smtp.gmail.com\", 587)\n",
    "    server.starttls()\n",
    "    server.login(sender_email, app_password)\n",
    "\n",
    "    # Email Formatting\n",
    "    subject = getTime()+\"'s meeting summary\"\n",
    "    message = f\"Subject: {subject}\\n\\n{summary}\"\n",
    "\n",
    "    # Sending Emails\n",
    "    for mail in mails:\n",
    "        server.sendmail(sender_email, mail, message)\n",
    "\n",
    "    print(\"Emails sent successfully!\")\n",
    "    server.quit()\n"
   ]
  },
  {
   "cell_type": "code",
   "execution_count": null,
   "metadata": {},
   "outputs": [],
   "source": []
  }
 ],
 "metadata": {
  "kernelspec": {
   "display_name": "Python 3",
   "language": "python",
   "name": "python3"
  },
  "language_info": {
   "codemirror_mode": {
    "name": "ipython",
    "version": 3
   },
   "file_extension": ".py",
   "mimetype": "text/x-python",
   "name": "python",
   "nbconvert_exporter": "python",
   "pygments_lexer": "ipython3",
   "version": "3.12.9"
  }
 },
 "nbformat": 4,
 "nbformat_minor": 2
}
