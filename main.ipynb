{
 "cells": [
  {
   "cell_type": "code",
   "execution_count": null,
   "metadata": {},
   "outputs": [],
   "source": [
    "text = \"\"\"\n",
    "Good morning, everyone. Thanks for joining today's project status meeting. Let's get started.\n",
    "John, can you give us an update on the development progress?\n",
    "Sure, Emma. We’ve completed the core functionality for the user authentication module. It’s now in the testing phase. We encountered a few minor bugs during integration, but the team is resolving them. We’re confident it will be ready for deployment by the end of this week.\n",
    "\n",
    "That’s good to hear. Sarah, how’s the marketing campaign coming along?\n",
    "\n",
    "Things are on track. We’ve finalized the content for the launch announcement. The social media plan is ready, and we’re set to start outreach next Monday. We’re aligning closely with the development team to ensure the timeline matches the product release.\n",
    "\n",
    "Excellent. Mike, any updates from the client side?\n",
    "\n",
    "Yes, I spoke with the client yesterday. They’re happy with our progress but requested a small demo before the final release. They just want to see how the authentication flow looks in action.\n",
    "\n",
    "Alright, that sounds reasonable. John, can your team prepare a brief demo version by Thursday?\n",
    "\n",
    "Yes, we can put something together. We’ll show the login flow and basic user dashboard functionality.\n",
    "\n",
    "Perfect. Does anyone have any other concerns or roadblocks?\n",
    "\n",
    "No issues from my side.\n",
    "\n",
    "All good here as well.\n",
    "\n",
    "We’re fine too. Just need to wrap up the final testing.\n",
    "\n",
    "Great. So, key action points:\n",
    "\n",
    "John’s team will prep the demo by Thursday.\n",
    "Sarah’s team will kick off the campaign next Monday.\n",
    "Mike will coordinate with the client for the demo presentation.\n",
    "We’ll meet again next week for a final check-in before the launch.\n",
    "Thanks, everyone!\n",
    "\"\"\""
   ]
  },
  {
   "cell_type": "markdown",
   "metadata": {},
   "source": [
    "#### Importing all ipunb file to current file"
   ]
  },
  {
   "cell_type": "code",
   "execution_count": null,
   "metadata": {},
   "outputs": [],
   "source": [
    "def importFiles():\n",
    "    %run recordingAudio.ipynb\n",
    "    %run convertingAudioToText.ipynb\n",
    "    %run responses.ipynb\n",
    "    %run getJSONData.ipynb\n",
    "    %run addingTasksToGoogleCalendarAndTask.ipynb    "
   ]
  },
  {
   "cell_type": "code",
   "execution_count": null,
   "metadata": {},
   "outputs": [],
   "source": [
    "importFiles()"
   ]
  },
  {
   "cell_type": "markdown",
   "metadata": {},
   "source": [
    "#### Calling Functions"
   ]
  },
  {
   "cell_type": "markdown",
   "metadata": {},
   "source": [
    "#### Recording Audio"
   ]
  },
  {
   "cell_type": "code",
   "execution_count": null,
   "metadata": {},
   "outputs": [],
   "source": [
    "recordAudio()"
   ]
  },
  {
   "cell_type": "markdown",
   "metadata": {},
   "source": [
    "#### Extracting Text From Audio"
   ]
  },
  {
   "cell_type": "code",
   "execution_count": null,
   "metadata": {},
   "outputs": [],
   "source": [
    "text = convertToText()\n",
    "print(text)"
   ]
  },
  {
   "cell_type": "markdown",
   "metadata": {},
   "source": [
    "##### Extracting Summary"
   ]
  },
  {
   "cell_type": "code",
   "execution_count": null,
   "metadata": {},
   "outputs": [],
   "source": [
    "summary = getSummary(text)\n",
    "print(summary)"
   ]
  },
  {
   "cell_type": "markdown",
   "metadata": {},
   "source": [
    "##### Extracting Responses"
   ]
  },
  {
   "cell_type": "code",
   "execution_count": null,
   "metadata": {},
   "outputs": [],
   "source": [
    "responses = getResponses(text)\n",
    "print(responses)"
   ]
  },
  {
   "cell_type": "markdown",
   "metadata": {},
   "source": [
    "#### Extracting JSON data from response"
   ]
  },
  {
   "cell_type": "code",
   "execution_count": null,
   "metadata": {},
   "outputs": [],
   "source": [
    "data = getJSON(responses)\n",
    "print(data)"
   ]
  },
  {
   "cell_type": "markdown",
   "metadata": {},
   "source": [
    "#### Adding Tasks to Calendar and ToDo"
   ]
  },
  {
   "cell_type": "code",
   "execution_count": null,
   "metadata": {},
   "outputs": [],
   "source": [
    "addTasks(data)"
   ]
  }
 ],
 "metadata": {
  "kernelspec": {
   "display_name": "Python 3",
   "language": "python",
   "name": "python3"
  },
  "language_info": {
   "codemirror_mode": {
    "name": "ipython",
    "version": 3
   },
   "file_extension": ".py",
   "mimetype": "text/x-python",
   "name": "python",
   "nbconvert_exporter": "python",
   "pygments_lexer": "ipython3",
   "version": "3.12.9"
  }
 },
 "nbformat": 4,
 "nbformat_minor": 2
}
