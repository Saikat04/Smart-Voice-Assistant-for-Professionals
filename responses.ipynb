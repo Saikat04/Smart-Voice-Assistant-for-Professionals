{
 "cells": [
  {
   "cell_type": "markdown",
   "metadata": {},
   "source": [
    "##### Summary"
   ]
  },
  {
   "cell_type": "code",
   "execution_count": 2,
   "metadata": {},
   "outputs": [],
   "source": [
    "def getSummary(text):\n",
    "    import google.generativeai as genai\n",
    "    key = \"XXXX\"\n",
    "    genai.configure(api_key=key)\n",
    "    model = genai.GenerativeModel(\"gemini-pro\")\n",
    "    prompt = f'''\n",
    "    Professionals often struggle to capture action items and important points during meetings while staying actively engaged in conversations. As a meeting assistant, your role is to help them by doing following task:\n",
    "    Create a short meeting summary notes from the meeting include only necessary things for a quick checkup.\n",
    "    {text}\n",
    "    '''\n",
    "    return model.generate_content(prompt).text"
   ]
  },
  {
   "cell_type": "markdown",
   "metadata": {},
   "source": [
    "##### Get Responses"
   ]
  },
  {
   "cell_type": "code",
   "execution_count": 1,
   "metadata": {},
   "outputs": [],
   "source": [
    "def getResponses(text):\n",
    "    import google.generativeai as genai\n",
    "    key = \"XXXX\"\n",
    "    genai.configure(api_key=key)\n",
    "    model = genai.GenerativeModel(\"gemini-pro\")\n",
    "    prompt = f'''\n",
    "    You are a meeting assistant. Please extract the following details from the meeting transcript below:\n",
    "    1. **Meeting Details**: Provide the meeting date, time, and location (if mentioned). If any detail is not mentioned, set its value to \"Not mentioned in the transcript\".\n",
    "    2. **Action Items & Tasks**: For each action item, extract a clear task description, the responsible person, and the deadline (if any). If a deadline is not provided, set its value to null.\n",
    "    3. **Key Discussion Points**: Summarize the important points discussed in the meeting.\n",
    "\n",
    "    Please return the output strictly in valid JSON format following the schema below:\n",
    "\n",
    "    {{\n",
    "    \"Meeting Details\": {{\n",
    "        \"Date\": \"<date or 'Not mentioned in the transcript'>\",\n",
    "        \"Time\": \"<time or 'Not mentioned in the transcript'>\",\n",
    "        \"Location\": \"<location or 'Not mentioned in the transcript'>\"\n",
    "    }},\n",
    "    \"Action Items & Tasks\": [\n",
    "        {{\n",
    "            \"Task\": \"<task description>\",\n",
    "            \"Responsible Person\": \"<responsible person>\",\n",
    "            \"Deadline\": \"<deadline in 2025-02-28T17:00:00-07:00 format and the year should be 2025 or null if not mentioned>\"\n",
    "        }}\n",
    "        // Include additional action items as needed\n",
    "    ],\n",
    "    \"Key Discussion Points\": [\n",
    "        \"<discussion point 1>\",\n",
    "        \"<discussion point 2>\"\n",
    "        // Include additional discussion points as needed\n",
    "    ]\n",
    "    }}\n",
    "\n",
    "    {text}\n",
    "\n",
    "    Return only the JSON output without any additional text.\n",
    "    '''\n",
    "\n",
    "    return model.generate_content(prompt).text"
   ]
  }
 ],
 "metadata": {
  "kernelspec": {
   "display_name": "Python 3",
   "language": "python",
   "name": "python3"
  },
  "language_info": {
   "codemirror_mode": {
    "name": "ipython",
    "version": 3
   },
   "file_extension": ".py",
   "mimetype": "text/x-python",
   "name": "python",
   "nbconvert_exporter": "python",
   "pygments_lexer": "ipython3",
   "version": "3.12.9"
  }
 },
 "nbformat": 4,
 "nbformat_minor": 2
}
